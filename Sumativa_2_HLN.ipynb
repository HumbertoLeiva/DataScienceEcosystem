{
  "nbformat": 4,
  "nbformat_minor": 0,
  "metadata": {
    "colab": {
      "provenance": []
    },
    "kernelspec": {
      "name": "python3",
      "display_name": "Python 3"
    },
    "language_info": {
      "name": "python"
    }
  },
  "cells": [
    {
      "cell_type": "markdown",
      "source": [
        "Herramientas y ecosistema de ciencia de datos\n",
        "Su compañero Humberto Leiva\n",
        "Este cuaderno se hace un resumen de las herramientas y el ecosisrtema de ciencias de datos\n",
        "\n",
        "Lenguajes de ciencias de datos\n",
        "1. Python\n",
        "2. R\n",
        "3. SQL\n",
        "\n",
        "Bibliotecas de Ciencia de Datos\n",
        "- Pandas\n",
        "- NumPy\n",
        "- Matplotlib\n",
        "- SciPy\n",
        "- ggplot\n",
        "\n",
        "Below are a few examples of evaluating arithmetic expressions in Python"
      ],
      "metadata": {
        "id": "h1aiC5X50WpE"
      }
    },
    {
      "cell_type": "code",
      "source": [
        "# Esta es una expresión aritmética simple para multiplicar y luego sumar números enteros.\n",
        "(3*4)+5"
      ],
      "metadata": {
        "id": "Oggg4HZZ01xt"
      },
      "execution_count": null,
      "outputs": []
    },
    {
      "cell_type": "code",
      "source": [
        "# Esto convertirá 200 minutos a horas dividiendo por 60.\n",
        "200 / 60"
      ],
      "metadata": {
        "id": "OyAN4PNp07Jm"
      },
      "execution_count": null,
      "outputs": []
    },
    {
      "cell_type": "markdown",
      "source": [
        "**Objetivos del cuaderno**:\n",
        "- Aprender sobre lenguajes de programación para ciencia de datos\n",
        "- Explorar herramientas populares de ciencia de datos\n",
        "- Mostrar ejemplos de operaciones aritméticas básicas en Python\n",
        "- Enumerar bibliotecas comunes utilizadas por los científicos de datos."
      ],
      "metadata": {
        "id": "WPElOb0y0-wJ"
      }
    },
    {
      "cell_type": "markdown",
      "source": [
        "Autor\n",
        "Humberto Leiva"
      ],
      "metadata": {
        "id": "CpRAhhq20Txf"
      }
    }
  ]
}